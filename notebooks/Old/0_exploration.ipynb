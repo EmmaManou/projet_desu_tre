{
 "cells": [
  {
   "cell_type": "markdown",
   "id": "27e3a413-ce07-4ecb-b5ad-398ef3418e57",
   "metadata": {},
   "source": [
    "# Durée de retour à l'emploi : les déterminants endogènes et exogènes\n",
    "\n",
    "## Phase exploratoire"
   ]
  },
  {
   "cell_type": "code",
   "execution_count": null,
   "id": "3ee29762-3cc6-40d7-a6a2-caf5b79e881b",
   "metadata": {},
   "outputs": [],
   "source": []
  }
 ],
 "metadata": {
  "kernelspec": {
   "display_name": "Python 3 (ipykernel)",
   "language": "python",
   "name": "python3"
  },
  "language_info": {
   "codemirror_mode": {
    "name": "ipython",
    "version": 3
   },
   "file_extension": ".py",
   "mimetype": "text/x-python",
   "name": "python",
   "nbconvert_exporter": "python",
   "pygments_lexer": "ipython3",
   "version": "3.9.7"
  }
 },
 "nbformat": 4,
 "nbformat_minor": 5
}
