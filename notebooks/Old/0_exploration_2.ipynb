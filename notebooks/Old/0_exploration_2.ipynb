{
 "cells": [
  {
   "cell_type": "markdown",
   "id": "27e3a413-ce07-4ecb-b5ad-398ef3418e57",
   "metadata": {},
   "source": [
    "# Durée de retour à l'emploi : les déterminants endogènes et exogènes\n",
    "\n",
    "## Phase exploratoire"
   ]
  },
  {
   "cell_type": "code",
   "execution_count": 1,
   "id": "3ee29762-3cc6-40d7-a6a2-caf5b79e881b",
   "metadata": {},
   "outputs": [],
   "source": [
    "import pandas as pd"
   ]
  },
  {
   "cell_type": "code",
   "execution_count": 2,
   "id": "ecb8934d-b2bf-461e-b95a-3c7c91b631e0",
   "metadata": {},
   "outputs": [
    {
     "data": {
      "text/plain": [
       "'1.3.5'"
      ]
     },
     "execution_count": 2,
     "metadata": {},
     "output_type": "execute_result"
    }
   ],
   "source": [
    "pd.__version__"
   ]
  },
  {
   "cell_type": "code",
   "execution_count": 29,
   "id": "f94e9b09-7d5f-4193-a759-88ec882901ce",
   "metadata": {},
   "outputs": [],
   "source": [
    "import csv"
   ]
  },
  {
   "cell_type": "markdown",
   "id": "e7f0d070-5697-4749-b598-1a111d316d69",
   "metadata": {},
   "source": [
    "1. Les données exogènes : taux de chômage et taux d'emploi\n",
    "\n",
    "Nous avons sélectionné 2 indicateurs de l'INSEE pour \"qualifier\" le dynamisme d'un territoire :\n",
    "- le taux de chômage trimestriel localisé par zone d'emploi : la ZE est le plus petit zonage disponible (302 zones d'emploi) et des données trimestrielles depuis 2003 (dernière série disponible au 18/05/2022 : 4ème trimestre 2021) ;\n",
    "- le taux d'emploi\n",
    "\n",
    "Il est également nécessaire d'importer une classification des zones d'emploi par commune (dont l'id est le code INSEE) afin de réaliser les jointures, et une autre classification permettant de faire la jointure entre le code INSEE et le Code Postal de la commune."
   ]
  },
  {
   "cell_type": "markdown",
   "id": "dad874e0-355a-4867-86cb-47318fc7d803",
   "metadata": {},
   "source": [
    "## Chargement du fichier TAUX CHOMAGE"
   ]
  },
  {
   "cell_type": "code",
   "execution_count": 3,
   "id": "f2702412-d7e0-46bd-8707-b01d32199bd2",
   "metadata": {},
   "outputs": [
    {
     "name": "stdout",
     "output_type": "stream",
     "text": [
      "Requirement already satisfied: xlrd in c:\\users\\emman\\anaconda3\\envs\\projet_desu_tre\\lib\\site-packages (2.0.1)\n"
     ]
    }
   ],
   "source": [
    "!pip install xlrd"
   ]
  },
  {
   "cell_type": "code",
   "execution_count": 7,
   "id": "055768f5-3cf9-4ab9-a872-a1d65706733c",
   "metadata": {},
   "outputs": [
    {
     "name": "stdout",
     "output_type": "stream",
     "text": [
      "Collecting openpyxl\n",
      "  Downloading openpyxl-3.0.10-py2.py3-none-any.whl (242 kB)\n",
      "Collecting et-xmlfile\n",
      "  Downloading et_xmlfile-1.1.0-py3-none-any.whl (4.7 kB)\n",
      "Installing collected packages: et-xmlfile, openpyxl\n",
      "Successfully installed et-xmlfile-1.1.0 openpyxl-3.0.10\n"
     ]
    }
   ],
   "source": [
    "!pip install openpyxl"
   ]
  },
  {
   "cell_type": "code",
   "execution_count": 8,
   "id": "10b012af-d311-453f-98f2-18fa01c012a7",
   "metadata": {},
   "outputs": [],
   "source": [
    "# d'abord il est nécessaire d'importer la librairie xlrd pour permettre à Python de lire Excel (les données INSEE ne sont pas dispobinle en csv)\n",
    "import xlrd"
   ]
  },
  {
   "cell_type": "code",
   "execution_count": 9,
   "id": "ff90ab4f-e1fd-4a25-8e46-bbfdae3d797d",
   "metadata": {},
   "outputs": [],
   "source": [
    "import openpyxl"
   ]
  },
  {
   "cell_type": "code",
   "execution_count": null,
   "id": "66c2bf7a-1bb4-4699-9d75-a95f429165fd",
   "metadata": {},
   "outputs": [],
   "source": [
    "# taux de chômage trimestriel par zone d'emploi - source INSEE\n",
    "# source : https://www.insee.fr/fr/statistiques/1893230\n",
    "# fichier 1 : Taux de chômage localisés par zone d'emploi, en moyenne trimestrielle : en France hors Mayotte et Guyane\n",
    "\n",
    "chemin = \".\\projet_desu_tre\\data\\external\\chomage-zone-t1-2003-t4-2021.xlsx\"\n",
    "chomage_df = pd.read_excel(chemin, skiprows = 5, header = 1, sheet_name = 'txcho_ze')\n",
    "\n",
    "# NE FONCTIONNE PAS : message d'erreur en passant par le chemin - je suis sobligée de passer par le téléchargement de la base "
   ]
  },
  {
   "cell_type": "code",
   "execution_count": 22,
   "id": "4117c0a6-3067-45aa-b923-ad9113dae34b",
   "metadata": {},
   "outputs": [
    {
     "data": {
      "text/html": [
       "<div>\n",
       "<style scoped>\n",
       "    .dataframe tbody tr th:only-of-type {\n",
       "        vertical-align: middle;\n",
       "    }\n",
       "\n",
       "    .dataframe tbody tr th {\n",
       "        vertical-align: top;\n",
       "    }\n",
       "\n",
       "    .dataframe thead th {\n",
       "        text-align: right;\n",
       "    }\n",
       "</style>\n",
       "<table border=\"1\" class=\"dataframe\">\n",
       "  <thead>\n",
       "    <tr style=\"text-align: right;\">\n",
       "      <th></th>\n",
       "      <th>ZE2020</th>\n",
       "      <th>LIBZE2020</th>\n",
       "      <th>REG</th>\n",
       "      <th>LIBREG</th>\n",
       "      <th>2003-T1</th>\n",
       "      <th>2003-T2</th>\n",
       "      <th>2003-T3</th>\n",
       "      <th>2003-T4</th>\n",
       "      <th>2004-T1</th>\n",
       "      <th>2004-T2</th>\n",
       "      <th>...</th>\n",
       "      <th>2019-T3</th>\n",
       "      <th>2019-T4</th>\n",
       "      <th>2020-T1</th>\n",
       "      <th>2020-T2</th>\n",
       "      <th>2020-T3</th>\n",
       "      <th>2020-T4</th>\n",
       "      <th>2021-T1</th>\n",
       "      <th>2021-T2</th>\n",
       "      <th>2021-T3</th>\n",
       "      <th>2021-T4</th>\n",
       "    </tr>\n",
       "  </thead>\n",
       "  <tbody>\n",
       "    <tr>\n",
       "      <th>0</th>\n",
       "      <td>51</td>\n",
       "      <td>Alençon</td>\n",
       "      <td>0</td>\n",
       "      <td>INTERRÉGIONAL</td>\n",
       "      <td>7.2</td>\n",
       "      <td>7.5</td>\n",
       "      <td>7.3</td>\n",
       "      <td>7.5</td>\n",
       "      <td>7.7</td>\n",
       "      <td>7.4</td>\n",
       "      <td>...</td>\n",
       "      <td>8.2</td>\n",
       "      <td>8.1</td>\n",
       "      <td>7.7</td>\n",
       "      <td>7.1</td>\n",
       "      <td>8.7</td>\n",
       "      <td>7.6</td>\n",
       "      <td>7.4</td>\n",
       "      <td>7.5</td>\n",
       "      <td>7.7</td>\n",
       "      <td>7.0</td>\n",
       "    </tr>\n",
       "    <tr>\n",
       "      <th>1</th>\n",
       "      <td>52</td>\n",
       "      <td>Arles</td>\n",
       "      <td>0</td>\n",
       "      <td>INTERRÉGIONAL</td>\n",
       "      <td>10.8</td>\n",
       "      <td>11.0</td>\n",
       "      <td>10.7</td>\n",
       "      <td>11.1</td>\n",
       "      <td>11.2</td>\n",
       "      <td>10.8</td>\n",
       "      <td>...</td>\n",
       "      <td>11.1</td>\n",
       "      <td>10.7</td>\n",
       "      <td>10.4</td>\n",
       "      <td>9.8</td>\n",
       "      <td>11.8</td>\n",
       "      <td>10.3</td>\n",
       "      <td>10.3</td>\n",
       "      <td>10.7</td>\n",
       "      <td>10.5</td>\n",
       "      <td>9.9</td>\n",
       "    </tr>\n",
       "    <tr>\n",
       "      <th>2</th>\n",
       "      <td>53</td>\n",
       "      <td>Avignon</td>\n",
       "      <td>0</td>\n",
       "      <td>INTERRÉGIONAL</td>\n",
       "      <td>9.4</td>\n",
       "      <td>9.6</td>\n",
       "      <td>9.6</td>\n",
       "      <td>9.7</td>\n",
       "      <td>9.9</td>\n",
       "      <td>9.7</td>\n",
       "      <td>...</td>\n",
       "      <td>10.6</td>\n",
       "      <td>10.3</td>\n",
       "      <td>9.8</td>\n",
       "      <td>9.0</td>\n",
       "      <td>11.3</td>\n",
       "      <td>10.1</td>\n",
       "      <td>10.1</td>\n",
       "      <td>10.1</td>\n",
       "      <td>10.3</td>\n",
       "      <td>9.6</td>\n",
       "    </tr>\n",
       "    <tr>\n",
       "      <th>3</th>\n",
       "      <td>54</td>\n",
       "      <td>Beauvais</td>\n",
       "      <td>0</td>\n",
       "      <td>INTERRÉGIONAL</td>\n",
       "      <td>7.1</td>\n",
       "      <td>7.3</td>\n",
       "      <td>7.3</td>\n",
       "      <td>7.8</td>\n",
       "      <td>7.9</td>\n",
       "      <td>7.8</td>\n",
       "      <td>...</td>\n",
       "      <td>8.6</td>\n",
       "      <td>8.4</td>\n",
       "      <td>8.1</td>\n",
       "      <td>7.6</td>\n",
       "      <td>9.3</td>\n",
       "      <td>8.1</td>\n",
       "      <td>8.0</td>\n",
       "      <td>8.1</td>\n",
       "      <td>8.3</td>\n",
       "      <td>7.6</td>\n",
       "    </tr>\n",
       "    <tr>\n",
       "      <th>4</th>\n",
       "      <td>55</td>\n",
       "      <td>Bollène-Pierrelatte</td>\n",
       "      <td>0</td>\n",
       "      <td>INTERRÉGIONAL</td>\n",
       "      <td>9.5</td>\n",
       "      <td>9.5</td>\n",
       "      <td>9.4</td>\n",
       "      <td>9.4</td>\n",
       "      <td>9.6</td>\n",
       "      <td>9.5</td>\n",
       "      <td>...</td>\n",
       "      <td>10.7</td>\n",
       "      <td>10.3</td>\n",
       "      <td>9.9</td>\n",
       "      <td>9.0</td>\n",
       "      <td>11.0</td>\n",
       "      <td>9.9</td>\n",
       "      <td>9.9</td>\n",
       "      <td>10.1</td>\n",
       "      <td>10.1</td>\n",
       "      <td>9.4</td>\n",
       "    </tr>\n",
       "  </tbody>\n",
       "</table>\n",
       "<p>5 rows × 80 columns</p>\n",
       "</div>"
      ],
      "text/plain": [
       "   ZE2020            LIBZE2020  REG          LIBREG  2003-T1  2003-T2  \\\n",
       "0      51              Alençon    0  INTERRÉGIONAL       7.2      7.5   \n",
       "1      52                Arles    0  INTERRÉGIONAL      10.8     11.0   \n",
       "2      53              Avignon    0  INTERRÉGIONAL       9.4      9.6   \n",
       "3      54             Beauvais    0  INTERRÉGIONAL       7.1      7.3   \n",
       "4      55  Bollène-Pierrelatte    0  INTERRÉGIONAL       9.5      9.5   \n",
       "\n",
       "   2003-T3  2003-T4  2004-T1  2004-T2  ...  2019-T3  2019-T4  2020-T1  \\\n",
       "0      7.3      7.5      7.7      7.4  ...      8.2      8.1      7.7   \n",
       "1     10.7     11.1     11.2     10.8  ...     11.1     10.7     10.4   \n",
       "2      9.6      9.7      9.9      9.7  ...     10.6     10.3      9.8   \n",
       "3      7.3      7.8      7.9      7.8  ...      8.6      8.4      8.1   \n",
       "4      9.4      9.4      9.6      9.5  ...     10.7     10.3      9.9   \n",
       "\n",
       "   2020-T2  2020-T3  2020-T4  2021-T1  2021-T2  2021-T3  2021-T4  \n",
       "0      7.1      8.7      7.6      7.4      7.5      7.7      7.0  \n",
       "1      9.8     11.8     10.3     10.3     10.7     10.5      9.9  \n",
       "2      9.0     11.3     10.1     10.1     10.1     10.3      9.6  \n",
       "3      7.6      9.3      8.1      8.0      8.1      8.3      7.6  \n",
       "4      9.0     11.0      9.9      9.9     10.1     10.1      9.4  \n",
       "\n",
       "[5 rows x 80 columns]"
      ]
     },
     "execution_count": 22,
     "metadata": {},
     "output_type": "execute_result"
    }
   ],
   "source": [
    "# taux de chômage trimestriel par zone d'emploi - source INSEE\n",
    "# source : https://www.insee.fr/fr/statistiques/1893230\n",
    "# fichier 1 : Taux de chômage localisés par zone d'emploi, en moyenne trimestrielle : en France hors Mayotte et Guyane\n",
    "\n",
    "chomage_df = pd.read_excel(\"chomage-zone-t1-2003-t4-2021.xlsx\", skiprows = 4, header = 1, sheet_name = 'txcho_ze')\n",
    "chomage_df.head(5)"
   ]
  },
  {
   "cell_type": "code",
   "execution_count": 82,
   "id": "6843a926-9847-4e10-a267-2bb9a76325c5",
   "metadata": {},
   "outputs": [
    {
     "data": {
      "text/plain": [
       "(302, 80)"
      ]
     },
     "execution_count": 82,
     "metadata": {},
     "output_type": "execute_result"
    }
   ],
   "source": [
    "chomage_df.shape"
   ]
  },
  {
   "cell_type": "markdown",
   "id": "baa93aa5-daee-4b98-a111-e2d56bf4f66c",
   "metadata": {
    "tags": []
   },
   "source": [
    "## Chargement du fichier CSV correspondnance Code INSEE - Code postal depuis Open Data\n",
    "- Source : La Poste sur Open Data\n",
    "- La base officielle des codes postaux est un jeu de données qui fournit la correspondance entre les codes postaux et les codes INSEE des communes, de France (métropole et DOM), des TOM, ainsi que de MONACO. Le fichier CSV a été mis à jour le 21 mars 2022\n",
    "- URL : https://www.data.gouv.fr/fr/datasets/base-officielle-des-codes-postaux/#resources"
   ]
  },
  {
   "cell_type": "code",
   "execution_count": 55,
   "id": "8b853f99-7d6e-40c7-b6f8-599c891c9e59",
   "metadata": {},
   "outputs": [
    {
     "data": {
      "text/html": [
       "<div>\n",
       "<style scoped>\n",
       "    .dataframe tbody tr th:only-of-type {\n",
       "        vertical-align: middle;\n",
       "    }\n",
       "\n",
       "    .dataframe tbody tr th {\n",
       "        vertical-align: top;\n",
       "    }\n",
       "\n",
       "    .dataframe thead th {\n",
       "        text-align: right;\n",
       "    }\n",
       "</style>\n",
       "<table border=\"1\" class=\"dataframe\">\n",
       "  <thead>\n",
       "    <tr style=\"text-align: right;\">\n",
       "      <th></th>\n",
       "      <th>code_commune_insee</th>\n",
       "      <th>nom_de_la_commune</th>\n",
       "      <th>code_postal</th>\n",
       "      <th>ligne_5</th>\n",
       "      <th>libelle_d_acheminement</th>\n",
       "      <th>coordonnees_gps</th>\n",
       "    </tr>\n",
       "  </thead>\n",
       "  <tbody>\n",
       "    <tr>\n",
       "      <th>0</th>\n",
       "      <td>25620</td>\n",
       "      <td>VILLE DU PONT</td>\n",
       "      <td>25650</td>\n",
       "      <td>NaN</td>\n",
       "      <td>VILLE DU PONT</td>\n",
       "      <td>46.999873398,6.498147193</td>\n",
       "    </tr>\n",
       "    <tr>\n",
       "      <th>1</th>\n",
       "      <td>25624</td>\n",
       "      <td>VILLERS GRELOT</td>\n",
       "      <td>25640</td>\n",
       "      <td>NaN</td>\n",
       "      <td>VILLERS GRELOT</td>\n",
       "      <td>47.361512085,6.235167025</td>\n",
       "    </tr>\n",
       "    <tr>\n",
       "      <th>2</th>\n",
       "      <td>26001</td>\n",
       "      <td>SOLAURE EN DIOIS</td>\n",
       "      <td>26150</td>\n",
       "      <td>AIX EN DIOIS</td>\n",
       "      <td>SOLAURE EN DIOIS</td>\n",
       "      <td>44.70587354,5.387770455</td>\n",
       "    </tr>\n",
       "    <tr>\n",
       "      <th>3</th>\n",
       "      <td>26003</td>\n",
       "      <td>ALEYRAC</td>\n",
       "      <td>26770</td>\n",
       "      <td>NaN</td>\n",
       "      <td>ALEYRAC</td>\n",
       "      <td>44.499150841,4.946083614</td>\n",
       "    </tr>\n",
       "    <tr>\n",
       "      <th>4</th>\n",
       "      <td>26009</td>\n",
       "      <td>ANDANCETTE</td>\n",
       "      <td>26140</td>\n",
       "      <td>NaN</td>\n",
       "      <td>ANDANCETTE</td>\n",
       "      <td>45.246625023,4.812717032</td>\n",
       "    </tr>\n",
       "  </tbody>\n",
       "</table>\n",
       "</div>"
      ],
      "text/plain": [
       "  code_commune_insee nom_de_la_commune  code_postal       ligne_5  \\\n",
       "0              25620     VILLE DU PONT        25650           NaN   \n",
       "1              25624    VILLERS GRELOT        25640           NaN   \n",
       "2              26001  SOLAURE EN DIOIS        26150  AIX EN DIOIS   \n",
       "3              26003           ALEYRAC        26770           NaN   \n",
       "4              26009        ANDANCETTE        26140           NaN   \n",
       "\n",
       "  libelle_d_acheminement           coordonnees_gps  \n",
       "0          VILLE DU PONT  46.999873398,6.498147193  \n",
       "1         VILLERS GRELOT  47.361512085,6.235167025  \n",
       "2       SOLAURE EN DIOIS   44.70587354,5.387770455  \n",
       "3                ALEYRAC  44.499150841,4.946083614  \n",
       "4             ANDANCETTE  45.246625023,4.812717032  "
      ]
     },
     "execution_count": 55,
     "metadata": {},
     "output_type": "execute_result"
    }
   ],
   "source": [
    "codes_communes_df = pd.read_excel(\"laposte_hexasmal_3.xlsx\")\n",
    "codes_communes_df.head(5)"
   ]
  },
  {
   "cell_type": "code",
   "execution_count": 83,
   "id": "ee4ba368-2f42-4398-badf-24d5977b34eb",
   "metadata": {},
   "outputs": [
    {
     "data": {
      "text/plain": [
       "(39193, 3)"
      ]
     },
     "execution_count": 83,
     "metadata": {},
     "output_type": "execute_result"
    }
   ],
   "source": [
    "codes_communes_df.shape"
   ]
  },
  {
   "cell_type": "markdown",
   "id": "ea146988-6324-4d52-8946-76db6d92e69c",
   "metadata": {},
   "source": [
    "## Chargement du fichier base des zones d'emploi Code INSEE - ZE depuis INSEE\n",
    "- Source : INSEE - composition communale des zones d'emploi (au format XLSX) - Base des zones d'emploi 2020 au 1ᵉʳ janvier 2022\n",
    "- URL : https://www.insee.fr/fr/information/4652957"
   ]
  },
  {
   "cell_type": "code",
   "execution_count": 43,
   "id": "b19491ca-8e79-408d-91cf-630115f3a0c1",
   "metadata": {},
   "outputs": [
    {
     "data": {
      "text/html": [
       "<div>\n",
       "<style scoped>\n",
       "    .dataframe tbody tr th:only-of-type {\n",
       "        vertical-align: middle;\n",
       "    }\n",
       "\n",
       "    .dataframe tbody tr th {\n",
       "        vertical-align: top;\n",
       "    }\n",
       "\n",
       "    .dataframe thead th {\n",
       "        text-align: right;\n",
       "    }\n",
       "</style>\n",
       "<table border=\"1\" class=\"dataframe\">\n",
       "  <thead>\n",
       "    <tr style=\"text-align: right;\">\n",
       "      <th></th>\n",
       "      <th>Code géographique communal</th>\n",
       "      <th>Libellé géographique</th>\n",
       "      <th>Zone d'emploi 2020</th>\n",
       "      <th>Libellé zone d'emploi 2020</th>\n",
       "      <th>Partie régionale de la zone d’emploi trans-régionale</th>\n",
       "      <th>Département</th>\n",
       "      <th>Région</th>\n",
       "    </tr>\n",
       "  </thead>\n",
       "  <tbody>\n",
       "    <tr>\n",
       "      <th>0</th>\n",
       "      <td>CODGEO</td>\n",
       "      <td>LIBGEO</td>\n",
       "      <td>ZE2020</td>\n",
       "      <td>LIBZE2020</td>\n",
       "      <td>ZE2020_PARTIE_REG</td>\n",
       "      <td>DEP</td>\n",
       "      <td>REG</td>\n",
       "    </tr>\n",
       "    <tr>\n",
       "      <th>1</th>\n",
       "      <td>01001</td>\n",
       "      <td>L'Abergement-Clémenciat</td>\n",
       "      <td>8405</td>\n",
       "      <td>Bourg en Bresse</td>\n",
       "      <td>NaN</td>\n",
       "      <td>01</td>\n",
       "      <td>84</td>\n",
       "    </tr>\n",
       "    <tr>\n",
       "      <th>2</th>\n",
       "      <td>01002</td>\n",
       "      <td>L'Abergement-de-Varey</td>\n",
       "      <td>8405</td>\n",
       "      <td>Bourg en Bresse</td>\n",
       "      <td>NaN</td>\n",
       "      <td>01</td>\n",
       "      <td>84</td>\n",
       "    </tr>\n",
       "    <tr>\n",
       "      <th>3</th>\n",
       "      <td>01004</td>\n",
       "      <td>Ambérieu-en-Bugey</td>\n",
       "      <td>8405</td>\n",
       "      <td>Bourg en Bresse</td>\n",
       "      <td>NaN</td>\n",
       "      <td>01</td>\n",
       "      <td>84</td>\n",
       "    </tr>\n",
       "    <tr>\n",
       "      <th>4</th>\n",
       "      <td>01005</td>\n",
       "      <td>Ambérieux-en-Dombes</td>\n",
       "      <td>8434</td>\n",
       "      <td>Villefranche-sur-Saône</td>\n",
       "      <td>NaN</td>\n",
       "      <td>01</td>\n",
       "      <td>84</td>\n",
       "    </tr>\n",
       "  </tbody>\n",
       "</table>\n",
       "</div>"
      ],
      "text/plain": [
       "  Code géographique communal     Libellé géographique Zone d'emploi 2020  \\\n",
       "0                     CODGEO                   LIBGEO             ZE2020   \n",
       "1                      01001  L'Abergement-Clémenciat               8405   \n",
       "2                      01002    L'Abergement-de-Varey               8405   \n",
       "3                      01004        Ambérieu-en-Bugey               8405   \n",
       "4                      01005      Ambérieux-en-Dombes               8434   \n",
       "\n",
       "  Libellé zone d'emploi 2020  \\\n",
       "0                  LIBZE2020   \n",
       "1            Bourg en Bresse   \n",
       "2            Bourg en Bresse   \n",
       "3            Bourg en Bresse   \n",
       "4     Villefranche-sur-Saône   \n",
       "\n",
       "  Partie régionale de la zone d’emploi trans-régionale Département Région  \n",
       "0                                  ZE2020_PARTIE_REG           DEP    REG  \n",
       "1                                                NaN            01     84  \n",
       "2                                                NaN            01     84  \n",
       "3                                                NaN            01     84  \n",
       "4                                                NaN            01     84  "
      ]
     },
     "execution_count": 43,
     "metadata": {},
     "output_type": "execute_result"
    }
   ],
   "source": [
    "commune_ze_df = pd.read_excel(\"ZE2020_au_01-01-2022.xlsx\", skiprows = 3, header = 1, sheet_name = 'Composition_communale')\n",
    "commune_ze_df.head(5)"
   ]
  },
  {
   "cell_type": "code",
   "execution_count": 84,
   "id": "7e5f9a89-26f0-4709-ad2c-397cb1957656",
   "metadata": {},
   "outputs": [
    {
     "data": {
      "text/plain": [
       "(34956, 4)"
      ]
     },
     "execution_count": 84,
     "metadata": {},
     "output_type": "execute_result"
    }
   ],
   "source": [
    "commune_ze_df.shape"
   ]
  },
  {
   "cell_type": "markdown",
   "id": "978c1d94-5d94-4327-85d1-9e6d0f01ed04",
   "metadata": {},
   "source": [
    "## Chargement du fichier indice de concentration de l'emploi - Observatoire des territoires\n",
    "- Source : Observatoire des territoires - Nombre d'emplois pour 100 actifs occupés - division : données \"communes 2021\" (format xlsx)\n",
    "- L'indice de concentration de l'emploi mesure le rapport entre le nombre d’emplois total proposés sur un territoire et le nombre d'actifs occupés (actifs en emploi) qui y résident. Cet indicateur permet d'apprécier la fonction de pôle d'emploi ou la fonction résidentielle d'un espace. Si cet indice est supérieur à 100 alors le nombre d'emplois proposés localement est plus important que le nombre d'actifs qui y résident et qui ont un emploi. Dans ce cas, le territoire considéré occupe une fonction de pôle d'emploi.\n",
    "- URL : https://www.observatoire-des-territoires.gouv.fr/indice-de-concentration-de-lemploi"
   ]
  },
  {
   "cell_type": "code",
   "execution_count": 96,
   "id": "fabd5bbd-e875-41bc-a6b2-5b28d2095bef",
   "metadata": {},
   "outputs": [
    {
     "data": {
      "text/html": [
       "<div>\n",
       "<style scoped>\n",
       "    .dataframe tbody tr th:only-of-type {\n",
       "        vertical-align: middle;\n",
       "    }\n",
       "\n",
       "    .dataframe tbody tr th {\n",
       "        vertical-align: top;\n",
       "    }\n",
       "\n",
       "    .dataframe thead th {\n",
       "        text-align: right;\n",
       "    }\n",
       "</style>\n",
       "<table border=\"1\" class=\"dataframe\">\n",
       "  <thead>\n",
       "    <tr style=\"text-align: right;\">\n",
       "      <th></th>\n",
       "      <th>codgeo</th>\n",
       "      <th>libgeo</th>\n",
       "      <th>an</th>\n",
       "      <th>ind_concentr_emp</th>\n",
       "    </tr>\n",
       "  </thead>\n",
       "  <tbody>\n",
       "    <tr>\n",
       "      <th>0</th>\n",
       "      <td>01001</td>\n",
       "      <td>L'Abergement-Clémenciat</td>\n",
       "      <td>1975</td>\n",
       "      <td>48.8</td>\n",
       "    </tr>\n",
       "    <tr>\n",
       "      <th>1</th>\n",
       "      <td>01001</td>\n",
       "      <td>L'Abergement-Clémenciat</td>\n",
       "      <td>1982</td>\n",
       "      <td>33.3</td>\n",
       "    </tr>\n",
       "    <tr>\n",
       "      <th>2</th>\n",
       "      <td>01001</td>\n",
       "      <td>L'Abergement-Clémenciat</td>\n",
       "      <td>1990</td>\n",
       "      <td>25.0</td>\n",
       "    </tr>\n",
       "    <tr>\n",
       "      <th>3</th>\n",
       "      <td>01001</td>\n",
       "      <td>L'Abergement-Clémenciat</td>\n",
       "      <td>1999</td>\n",
       "      <td>30.4</td>\n",
       "    </tr>\n",
       "    <tr>\n",
       "      <th>4</th>\n",
       "      <td>01001</td>\n",
       "      <td>L'Abergement-Clémenciat</td>\n",
       "      <td>2008</td>\n",
       "      <td>18.1</td>\n",
       "    </tr>\n",
       "  </tbody>\n",
       "</table>\n",
       "</div>"
      ],
      "text/plain": [
       "  codgeo                   libgeo    an  ind_concentr_emp\n",
       "0  01001  L'Abergement-Clémenciat  1975              48.8\n",
       "1  01001  L'Abergement-Clémenciat  1982              33.3\n",
       "2  01001  L'Abergement-Clémenciat  1990              25.0\n",
       "3  01001  L'Abergement-Clémenciat  1999              30.4\n",
       "4  01001  L'Abergement-Clémenciat  2008              18.1"
      ]
     },
     "execution_count": 96,
     "metadata": {},
     "output_type": "execute_result"
    }
   ],
   "source": [
    "conc_emploi_df = pd.read_excel(\"insee_rp_hist_1975.xlsx\", skiprows = 3, header = 1, sheet_name = 'Data')\n",
    "conc_emploi_df.head(5)"
   ]
  },
  {
   "cell_type": "code",
   "execution_count": 97,
   "id": "5a520a1d-afcb-41b0-a3b0-6d2e897a9911",
   "metadata": {},
   "outputs": [
    {
     "data": {
      "text/plain": [
       "(244755, 4)"
      ]
     },
     "execution_count": 97,
     "metadata": {},
     "output_type": "execute_result"
    }
   ],
   "source": [
    "conc_emploi_df.shape\n",
    "# là il y a un pb  244 755 lignes, c'est impossbile\n",
    "#attentino, il y a plusieurs années : 1975, 1982, 1990, 1999, 008, 2013 et 2018. NE RETENIR QUE 2018"
   ]
  },
  {
   "cell_type": "code",
   "execution_count": 98,
   "id": "48c54b3f-82ea-44d6-9006-a8392743970f",
   "metadata": {},
   "outputs": [
    {
     "data": {
      "text/html": [
       "<div>\n",
       "<style scoped>\n",
       "    .dataframe tbody tr th:only-of-type {\n",
       "        vertical-align: middle;\n",
       "    }\n",
       "\n",
       "    .dataframe tbody tr th {\n",
       "        vertical-align: top;\n",
       "    }\n",
       "\n",
       "    .dataframe thead th {\n",
       "        text-align: right;\n",
       "    }\n",
       "</style>\n",
       "<table border=\"1\" class=\"dataframe\">\n",
       "  <thead>\n",
       "    <tr style=\"text-align: right;\">\n",
       "      <th></th>\n",
       "      <th>codgeo</th>\n",
       "      <th>libgeo</th>\n",
       "      <th>an</th>\n",
       "      <th>ind_concentr_emp</th>\n",
       "    </tr>\n",
       "  </thead>\n",
       "  <tbody>\n",
       "    <tr>\n",
       "      <th>6</th>\n",
       "      <td>01001</td>\n",
       "      <td>L'Abergement-Clémenciat</td>\n",
       "      <td>2018</td>\n",
       "      <td>27.0</td>\n",
       "    </tr>\n",
       "    <tr>\n",
       "      <th>13</th>\n",
       "      <td>01002</td>\n",
       "      <td>L'Abergement-de-Varey</td>\n",
       "      <td>2018</td>\n",
       "      <td>14.6</td>\n",
       "    </tr>\n",
       "    <tr>\n",
       "      <th>20</th>\n",
       "      <td>01004</td>\n",
       "      <td>Ambérieu-en-Bugey</td>\n",
       "      <td>2018</td>\n",
       "      <td>132.2</td>\n",
       "    </tr>\n",
       "    <tr>\n",
       "      <th>27</th>\n",
       "      <td>01005</td>\n",
       "      <td>Ambérieux-en-Dombes</td>\n",
       "      <td>2018</td>\n",
       "      <td>30.6</td>\n",
       "    </tr>\n",
       "    <tr>\n",
       "      <th>34</th>\n",
       "      <td>01006</td>\n",
       "      <td>Ambléon</td>\n",
       "      <td>2018</td>\n",
       "      <td>12.0</td>\n",
       "    </tr>\n",
       "  </tbody>\n",
       "</table>\n",
       "</div>"
      ],
      "text/plain": [
       "   codgeo                   libgeo    an  ind_concentr_emp\n",
       "6   01001  L'Abergement-Clémenciat  2018              27.0\n",
       "13  01002    L'Abergement-de-Varey  2018              14.6\n",
       "20  01004        Ambérieu-en-Bugey  2018             132.2\n",
       "27  01005      Ambérieux-en-Dombes  2018              30.6\n",
       "34  01006                  Ambléon  2018              12.0"
      ]
     },
     "execution_count": 98,
     "metadata": {},
     "output_type": "execute_result"
    }
   ],
   "source": [
    "#attentino, il y a plusieurs années : 1975, 1982, 1990, 1999, 008, 2013 et 2018. NE RETENIR QUE 2018\n",
    "#donc filtre par la colonne \"an\" = 2018\n",
    "conc_emploi_df = conc_emploi_df.loc[conc_emploi_df['an'] == 2018].sort_values(by=['codgeo'], ascending=True)\n",
    "conc_emploi_df.head(5)"
   ]
  },
  {
   "cell_type": "code",
   "execution_count": 99,
   "id": "ca100094-ac62-4a08-8d73-084a9a0b0489",
   "metadata": {},
   "outputs": [
    {
     "data": {
      "text/plain": [
       "(34965, 4)"
      ]
     },
     "execution_count": 99,
     "metadata": {},
     "output_type": "execute_result"
    }
   ],
   "source": [
    "conc_emploi_df.shape"
   ]
  },
  {
   "cell_type": "markdown",
   "id": "0394781f-5293-45d2-aecb-fb4f42e9068e",
   "metadata": {},
   "source": [
    "## MERGE sur les 4 databases externes pour constituer 1 seul JDD\n",
    "L'objectif est d'obtenir un data frame avec le CP + le taux de chômage + l'indice de concentration d'emploi, en concaténant les 4 JDD OPEN DATA précédents."
   ]
  },
  {
   "cell_type": "code",
   "execution_count": 106,
   "id": "d47ef706-357e-4796-9fcd-b928f5bcfe71",
   "metadata": {},
   "outputs": [
    {
     "data": {
      "text/plain": [
       "(39193, 3)"
      ]
     },
     "execution_count": 106,
     "metadata": {},
     "output_type": "execute_result"
    }
   ],
   "source": [
    "codes_communes_df.shape"
   ]
  },
  {
   "cell_type": "code",
   "execution_count": 107,
   "id": "bde92f21-026e-4b06-a34b-540cfbda2821",
   "metadata": {},
   "outputs": [
    {
     "data": {
      "text/plain": [
       "(5, 3)"
      ]
     },
     "execution_count": 107,
     "metadata": {},
     "output_type": "execute_result"
    }
   ],
   "source": [
    "codes_communes_df = codes_communes_df[[\"code_commune_insee\", \"nom_de_la_commune\", \"code_postal\"]]\n",
    "codes_communes.shape"
   ]
  },
  {
   "cell_type": "code",
   "execution_count": null,
   "id": "6aab0aee-29b5-4ea5-98c3-fd5e2dc87d25",
   "metadata": {},
   "outputs": [],
   "source": []
  },
  {
   "cell_type": "code",
   "execution_count": null,
   "id": "0f0c5a90-218e-44e9-b221-72daf27d2eae",
   "metadata": {},
   "outputs": [],
   "source": [
    "codes_communes_df.head(5)"
   ]
  },
  {
   "cell_type": "code",
   "execution_count": null,
   "id": "c96797fe-954c-45a6-a6ac-b2c8e4e6d56d",
   "metadata": {},
   "outputs": [],
   "source": [
    "commune_ze_df.shape"
   ]
  },
  {
   "cell_type": "code",
   "execution_count": null,
   "id": "e1257e3b-3869-4a82-b25d-cbba3a25ae38",
   "metadata": {},
   "outputs": [],
   "source": [
    "pd.merge(codes_communes_df, commune_ze_df, left_on=['code_commune_insee'], right_on=['Code géographique communal']).shape"
   ]
  },
  {
   "cell_type": "code",
   "execution_count": null,
   "id": "e2c58dc3-4e5e-4cb1-9763-2d7f5c18292b",
   "metadata": {},
   "outputs": [],
   "source": [
    "# .nunique() permet de calculer le nombre de valeurs différentes (uniques)\n",
    "# La ligne suivante permet donc de savoir combien il y a d'années différentes :\n",
    "\n",
    "atmo_df[\"Année\"].nunique()\n",
    "\n",
    "# Ici on trouve 7 valeurs différentes."
   ]
  },
  {
   "cell_type": "code",
   "execution_count": null,
   "id": "23179e10-1445-4d6b-b091-3ff803129672",
   "metadata": {},
   "outputs": [],
   "source": [
    "# Si l'on veut voir quelles sont ces 7 années différentes,\n",
    "# On peut utiliser un .unique()\n",
    " \n",
    "atmo_df[\"Année\"].unique()"
   ]
  }
 ],
 "metadata": {
  "kernelspec": {
   "display_name": "Python 3 (ipykernel)",
   "language": "python",
   "name": "python3"
  },
  "language_info": {
   "codemirror_mode": {
    "name": "ipython",
    "version": 3
   },
   "file_extension": ".py",
   "mimetype": "text/x-python",
   "name": "python",
   "nbconvert_exporter": "python",
   "pygments_lexer": "ipython3",
   "version": "3.7.13"
  }
 },
 "nbformat": 4,
 "nbformat_minor": 5
}
