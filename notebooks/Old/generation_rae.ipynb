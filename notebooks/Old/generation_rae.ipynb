{
 "cells": [
  {
   "cell_type": "code",
   "execution_count": 838,
   "id": "01ee442e",
   "metadata": {},
   "outputs": [],
   "source": [
    "import pandas as pd\n",
    "import numpy as np\n",
    "import datetime as dt\n",
    "import seaborn as sns\n",
    "import random\n",
    "import os"
   ]
  },
  {
   "cell_type": "markdown",
   "id": "1a44a989",
   "metadata": {},
   "source": [
    "# Paramètres globaux"
   ]
  },
  {
   "cell_type": "code",
   "execution_count": 839,
   "id": "ad30fb59",
   "metadata": {},
   "outputs": [],
   "source": [
    "RAW_REP = \"raw\"\n",
    "OUTPUT_FOLDER = \"processed\"\n",
    "N = 5000 # taille de la population\n",
    "CODES_NAF = [el for el in range(1,99) if el not in (1,2,3,45,47,55,56,97,98,99)]\n",
    "TYPE_DE_ZONE = [\"urbaine\", \"urbaine\", \"rurale\"]\n",
    "AGE_TOP = 42\n",
    "JOURS_MOYEN_DANS_UN_MOIS = 30.4\n",
    "COEFF_RECTIFICATEUR = 1.3 # à modifier en fonction de la moyenne générale de rae\n",
    "RAE_MOY = ((0.5 * 3.5 + 0.4 * 9 + 0.1 * 18) * JOURS_MOYEN_DANS_UN_MOIS) / COEFF_RECTIFICATEUR\n",
    "CSP_DICT = {\"Ouvrier\": 1.4,\n",
    "            \"Employé\": 1.2,\n",
    "            \"Technicien Maîtrise\": 1,\n",
    "            \"Cadre\": 0.8,\n",
    "            \"Cadre supérieur\": 0.6}"
   ]
  },
  {
   "cell_type": "markdown",
   "id": "8f6802d3",
   "metadata": {},
   "source": [
    "# Génération des ID et des fausses identités"
   ]
  },
  {
   "cell_type": "code",
   "execution_count": 742,
   "id": "d2fbd9c0",
   "metadata": {},
   "outputs": [],
   "source": [
    "noms_df = pd.read_csv(os.path.join(RAW_REP, \"patronymes.csv\"))\n",
    "prenoms_df = pd.read_csv(os.path.join(RAW_REP, \"prenoms.csv\"), sep=';', encoding='1252')"
   ]
  },
  {
   "cell_type": "code",
   "execution_count": 743,
   "id": "a3565a5b",
   "metadata": {},
   "outputs": [],
   "source": [
    "f_french_names = prenoms_df[prenoms_df['03_langage'].astype(str).str.contains(\"french\") & (prenoms_df['02_genre'] == 'f')]\n",
    "m_french_names = prenoms_df[prenoms_df['03_langage'].astype(str).str.contains(\"french\") & (prenoms_df['02_genre'] == 'm')]"
   ]
  },
  {
   "cell_type": "code",
   "execution_count": 744,
   "id": "63ea9fb6",
   "metadata": {},
   "outputs": [],
   "source": [
    "m_prenoms = [x[0].upper() + x[1:] for x in m_french_names['01_prenom'].to_list() if len(x) < 50]\n",
    "f_prenoms = [x[0].upper() + x[1:] for x in f_french_names['01_prenom'].to_list() if len(x) < 50]"
   ]
  },
  {
   "cell_type": "code",
   "execution_count": 745,
   "id": "470979d6",
   "metadata": {},
   "outputs": [],
   "source": [
    "noms = noms_df['patronyme'].to_list()"
   ]
  },
  {
   "cell_type": "code",
   "execution_count": 746,
   "id": "9179a5a5",
   "metadata": {},
   "outputs": [],
   "source": [
    "def generate_birthday(start_date: tuple=(1948, 1, 1), end_date: tuple=(1985, 1, 1)):\n",
    "\n",
    "    start_date, end_date = dt.date(*start_date), dt.date(*end_date)\n",
    "    return start_date + dt.timedelta(days=random.randrange((end_date - start_date).days))"
   ]
  },
  {
   "cell_type": "code",
   "execution_count": 748,
   "id": "38ad374d",
   "metadata": {},
   "outputs": [],
   "source": [
    "def birthday():\n",
    "    if random.randint(1,10) > 4: return generate_birthday((1962, 1, 1), (1982, 1, 1))\n",
    "    else: return generate_birthday((1982, 1, 1), (2002, 1, 1))"
   ]
  },
  {
   "cell_type": "code",
   "execution_count": 747,
   "id": "81b151b8",
   "metadata": {},
   "outputs": [],
   "source": [
    "def generate_prenom(genre: str, prenoms_male: list=m_prenoms, prenoms_female: list=f_prenoms) -> str:\n",
    "    \n",
    "    if genre =='h': return random.choice(prenoms_male)\n",
    "    else: return random.choice(prenoms_female)"
   ]
  },
  {
   "cell_type": "code",
   "execution_count": 750,
   "id": "ca86ff06",
   "metadata": {},
   "outputs": [],
   "source": [
    "def naf(): return random.choice(CODES_NAF)"
   ]
  },
  {
   "cell_type": "code",
   "execution_count": 751,
   "id": "fb299834",
   "metadata": {},
   "outputs": [],
   "source": [
    "def zone(): return random.choice(TYPE_DE_ZONE)"
   ]
  },
  {
   "cell_type": "code",
   "execution_count": 791,
   "id": "e04a6556",
   "metadata": {},
   "outputs": [],
   "source": [
    "# 5% entre 0 et 100 salariés\n",
    "# 30% dans des entreprises entre 100 et 250\n",
    "# 15% entre 250 et 500\n",
    "# 25% entre 500 et 1000\n",
    "# 25% plus de 1000\n",
    "def entreprise():\n",
    "    x = random.randint(1, 100)\n",
    "    if x <= 5: return random.randint(0, 100)\n",
    "    elif x <= 35: return random.randint(100, 250)\n",
    "    elif x <= 50: return random.randint(251, 500)\n",
    "    elif x <= 75: return random.randint(501, 1000)\n",
    "    else : return random.randint(1001, 2000)"
   ]
  },
  {
   "cell_type": "raw",
   "id": "912a597e",
   "metadata": {},
   "source": [
    "# Vérification\n",
    "a = []\n",
    "for i in range(10000): a.append(entreprise())\n",
    "test = pd.DataFrame(a)\n",
    "test['cut'] = pd.cut(test[0], [0, 100, 250, 500, 1000, 10000])\n",
    "test['cut'].value_counts() / 100"
   ]
  },
  {
   "cell_type": "markdown",
   "id": "422d49b1",
   "metadata": {},
   "source": [
    "# Coeffecients"
   ]
  },
  {
   "cell_type": "markdown",
   "id": "90e6bcb7",
   "metadata": {},
   "source": [
    "## Coefficients"
   ]
  },
  {
   "cell_type": "code",
   "execution_count": 874,
   "id": "462bd993",
   "metadata": {},
   "outputs": [],
   "source": [
    "def calcul_duree_rae(age, csp, nbr_salaries, zone):\n",
    "    \n",
    "    # age\n",
    "    x = np.random.normal(abs(1 - (age / AGE_TOP)) + 0.7, 0.3)\n",
    "    age_coef = x if x > 0 else 0.7\n",
    "    \n",
    "    # csp\n",
    "    csp_coef = CSP_DICT[csp]\n",
    "    \n",
    "    # taille entreprise\n",
    "    nbr_salaries_coef = 1 - (0.001 * x) + 0.4 if x < 1000 else 0.4\n",
    "    \n",
    "    # zone urbaine ou rurale\n",
    "    zone_coef = 1.2 if zone == \"rurale\" else 0.8\n",
    "    \n",
    "    coef = age_coef * csp_coef * nbr_salaries_coef * zone_coef\n",
    "    \n",
    "    return coef if coef < 3 else 3 # on évite les outlies\n",
    "    \n",
    "    # Pour afficher le détail du calcul par individu\n",
    "    return {'duree_rae' : age_coef * csp_coef * nbr_salaries_coef * zone_coef,\n",
    "            'age_coef' : age_coef,\n",
    "            'csp_coef' : csp_coef,\n",
    "            'nbr_salaries_coeff' : nbr_salaries_coef,\n",
    "            'zone': zone_coef}\n",
    "    "
   ]
  },
  {
   "cell_type": "markdown",
   "id": "2ef010e1",
   "metadata": {},
   "source": [
    "# Création du Dataframe"
   ]
  },
  {
   "cell_type": "code",
   "execution_count": 875,
   "id": "5c4ab362",
   "metadata": {},
   "outputs": [],
   "source": [
    "# ID\n",
    "df = pd.DataFrame(range(1,N)).rename(columns={0:\"id\"})"
   ]
  },
  {
   "cell_type": "code",
   "execution_count": 876,
   "id": "bcac5b63",
   "metadata": {},
   "outputs": [],
   "source": [
    "# Genre\n",
    "df['genre'] = df.apply(lambda x: random.choice(['h','f']), axis=1)"
   ]
  },
  {
   "cell_type": "code",
   "execution_count": 877,
   "id": "698eec9c",
   "metadata": {},
   "outputs": [],
   "source": [
    "# Prénom et Nom\n",
    "df['prenom'] = df.apply(lambda x: generate_prenom(x['genre']), axis=1)\n",
    "df['nom'] = df.apply(lambda x: random.choice(noms), axis=1)"
   ]
  },
  {
   "cell_type": "code",
   "execution_count": 878,
   "id": "bedb0798",
   "metadata": {},
   "outputs": [],
   "source": [
    "# Date de naissance\n",
    "df['date_de_naissance'] = df.apply(lambda x : birthday(), axis=1)"
   ]
  },
  {
   "cell_type": "code",
   "execution_count": 879,
   "id": "4c8ca793",
   "metadata": {},
   "outputs": [],
   "source": [
    "# Age\n",
    "df['age'] = ((pd.Timestamp('now').date() - df['date_de_naissance'])/ np.timedelta64(1, 'Y')).astype(int)"
   ]
  },
  {
   "cell_type": "code",
   "execution_count": 880,
   "id": "ec29269c",
   "metadata": {},
   "outputs": [],
   "source": [
    "# CSP\n",
    "df['csp'] = df.apply(lambda x : random.choice(list(CSP_DICT.keys())), axis=1)"
   ]
  },
  {
   "cell_type": "code",
   "execution_count": 881,
   "id": "a1beda72",
   "metadata": {},
   "outputs": [],
   "source": [
    "# Nbr d'employés dans l'entreprise\n",
    "df['nbr_de_salaries'] = df.apply(lambda x: entreprise(), axis=1)"
   ]
  },
  {
   "cell_type": "code",
   "execution_count": 882,
   "id": "44e54a1e",
   "metadata": {},
   "outputs": [],
   "source": [
    "# Code naf\n",
    "df['code_naf'] = df.apply(lambda x: naf(), axis=1)"
   ]
  },
  {
   "cell_type": "code",
   "execution_count": 883,
   "id": "44ae8d94",
   "metadata": {},
   "outputs": [],
   "source": [
    "# Zone urbaine ou rurale\n",
    "df['zone'] = df.apply(lambda x: zone(), axis=1)"
   ]
  },
  {
   "cell_type": "code",
   "execution_count": 884,
   "id": "7d416bbe",
   "metadata": {},
   "outputs": [],
   "source": [
    "# Coef global pour chaque individu\n",
    "df['coef'] = df.apply(lambda x: calcul_duree_rae(x['age'], x['csp'], x['nbr_de_salaries'], x['zone']), axis=1)"
   ]
  },
  {
   "cell_type": "code",
   "execution_count": 885,
   "id": "fad9c08e",
   "metadata": {},
   "outputs": [],
   "source": [
    "# Durée du rae\n",
    "df['duree_rae'] = (df['coef'] * RAE_MOY).astype(int)"
   ]
  },
  {
   "cell_type": "markdown",
   "id": "ed56555d",
   "metadata": {},
   "source": [
    "## Stats et vérifications"
   ]
  },
  {
   "cell_type": "code",
   "execution_count": 890,
   "id": "30ffd784",
   "metadata": {},
   "outputs": [
    {
     "data": {
      "text/html": [
       "<div>\n",
       "<style scoped>\n",
       "    .dataframe tbody tr th:only-of-type {\n",
       "        vertical-align: middle;\n",
       "    }\n",
       "\n",
       "    .dataframe tbody tr th {\n",
       "        vertical-align: top;\n",
       "    }\n",
       "\n",
       "    .dataframe thead th {\n",
       "        text-align: right;\n",
       "    }\n",
       "</style>\n",
       "<table border=\"1\" class=\"dataframe\">\n",
       "  <thead>\n",
       "    <tr style=\"text-align: right;\">\n",
       "      <th></th>\n",
       "      <th>id</th>\n",
       "      <th>genre</th>\n",
       "      <th>prenom</th>\n",
       "      <th>nom</th>\n",
       "      <th>date_de_naissance</th>\n",
       "      <th>age</th>\n",
       "      <th>csp</th>\n",
       "      <th>nbr_de_salaries</th>\n",
       "      <th>code_naf</th>\n",
       "      <th>zone</th>\n",
       "      <th>coef</th>\n",
       "      <th>duree_rae</th>\n",
       "    </tr>\n",
       "  </thead>\n",
       "  <tbody>\n",
       "    <tr>\n",
       "      <th>0</th>\n",
       "      <td>1</td>\n",
       "      <td>h</td>\n",
       "      <td>Mathis</td>\n",
       "      <td>VIANA FUZA</td>\n",
       "      <td>1962-03-28</td>\n",
       "      <td>60</td>\n",
       "      <td>Cadre supérieur</td>\n",
       "      <td>1899</td>\n",
       "      <td>27</td>\n",
       "      <td>rurale</td>\n",
       "      <td>0.940748</td>\n",
       "      <td>157</td>\n",
       "    </tr>\n",
       "    <tr>\n",
       "      <th>1</th>\n",
       "      <td>2</td>\n",
       "      <td>f</td>\n",
       "      <td>Sylvie</td>\n",
       "      <td>EL YOUNANI</td>\n",
       "      <td>1965-09-06</td>\n",
       "      <td>56</td>\n",
       "      <td>Cadre</td>\n",
       "      <td>423</td>\n",
       "      <td>94</td>\n",
       "      <td>urbaine</td>\n",
       "      <td>0.994021</td>\n",
       "      <td>166</td>\n",
       "    </tr>\n",
       "    <tr>\n",
       "      <th>2</th>\n",
       "      <td>3</td>\n",
       "      <td>f</td>\n",
       "      <td>Hortense</td>\n",
       "      <td>GROS</td>\n",
       "      <td>1978-05-05</td>\n",
       "      <td>44</td>\n",
       "      <td>Cadre</td>\n",
       "      <td>242</td>\n",
       "      <td>10</td>\n",
       "      <td>urbaine</td>\n",
       "      <td>0.688066</td>\n",
       "      <td>115</td>\n",
       "    </tr>\n",
       "    <tr>\n",
       "      <th>3</th>\n",
       "      <td>4</td>\n",
       "      <td>f</td>\n",
       "      <td>Inès</td>\n",
       "      <td>RAULT VERHAERHE</td>\n",
       "      <td>1978-02-13</td>\n",
       "      <td>44</td>\n",
       "      <td>Cadre supérieur</td>\n",
       "      <td>263</td>\n",
       "      <td>17</td>\n",
       "      <td>rurale</td>\n",
       "      <td>0.659418</td>\n",
       "      <td>110</td>\n",
       "    </tr>\n",
       "    <tr>\n",
       "      <th>4</th>\n",
       "      <td>5</td>\n",
       "      <td>h</td>\n",
       "      <td>Désiré</td>\n",
       "      <td>GUGGIARI</td>\n",
       "      <td>1980-10-12</td>\n",
       "      <td>41</td>\n",
       "      <td>Technicien Maîtrise</td>\n",
       "      <td>223</td>\n",
       "      <td>31</td>\n",
       "      <td>rurale</td>\n",
       "      <td>0.019161</td>\n",
       "      <td>3</td>\n",
       "    </tr>\n",
       "    <tr>\n",
       "      <th>5</th>\n",
       "      <td>6</td>\n",
       "      <td>h</td>\n",
       "      <td>Marin</td>\n",
       "      <td>DAUZONNE</td>\n",
       "      <td>2001-06-14</td>\n",
       "      <td>20</td>\n",
       "      <td>Technicien Maîtrise</td>\n",
       "      <td>1415</td>\n",
       "      <td>62</td>\n",
       "      <td>urbaine</td>\n",
       "      <td>1.023556</td>\n",
       "      <td>171</td>\n",
       "    </tr>\n",
       "    <tr>\n",
       "      <th>6</th>\n",
       "      <td>7</td>\n",
       "      <td>f</td>\n",
       "      <td>Anastasie</td>\n",
       "      <td>GIOMO</td>\n",
       "      <td>1997-07-15</td>\n",
       "      <td>24</td>\n",
       "      <td>Technicien Maîtrise</td>\n",
       "      <td>197</td>\n",
       "      <td>40</td>\n",
       "      <td>urbaine</td>\n",
       "      <td>0.969677</td>\n",
       "      <td>162</td>\n",
       "    </tr>\n",
       "    <tr>\n",
       "      <th>7</th>\n",
       "      <td>8</td>\n",
       "      <td>h</td>\n",
       "      <td>Adolphe</td>\n",
       "      <td>JEYASANKAR</td>\n",
       "      <td>1968-09-06</td>\n",
       "      <td>53</td>\n",
       "      <td>Cadre</td>\n",
       "      <td>996</td>\n",
       "      <td>67</td>\n",
       "      <td>urbaine</td>\n",
       "      <td>0.284302</td>\n",
       "      <td>47</td>\n",
       "    </tr>\n",
       "    <tr>\n",
       "      <th>8</th>\n",
       "      <td>9</td>\n",
       "      <td>h</td>\n",
       "      <td>Maxime</td>\n",
       "      <td>TLUCEK</td>\n",
       "      <td>1995-03-06</td>\n",
       "      <td>27</td>\n",
       "      <td>Technicien Maîtrise</td>\n",
       "      <td>272</td>\n",
       "      <td>65</td>\n",
       "      <td>rurale</td>\n",
       "      <td>2.200580</td>\n",
       "      <td>367</td>\n",
       "    </tr>\n",
       "    <tr>\n",
       "      <th>9</th>\n",
       "      <td>10</td>\n",
       "      <td>f</td>\n",
       "      <td>Felicienne</td>\n",
       "      <td>MOUREDA</td>\n",
       "      <td>1995-08-10</td>\n",
       "      <td>26</td>\n",
       "      <td>Cadre supérieur</td>\n",
       "      <td>162</td>\n",
       "      <td>67</td>\n",
       "      <td>rurale</td>\n",
       "      <td>0.927465</td>\n",
       "      <td>155</td>\n",
       "    </tr>\n",
       "  </tbody>\n",
       "</table>\n",
       "</div>"
      ],
      "text/plain": [
       "   id genre      prenom              nom date_de_naissance  age  \\\n",
       "0   1     h      Mathis       VIANA FUZA        1962-03-28   60   \n",
       "1   2     f      Sylvie       EL YOUNANI        1965-09-06   56   \n",
       "2   3     f    Hortense             GROS        1978-05-05   44   \n",
       "3   4     f        Inès  RAULT VERHAERHE        1978-02-13   44   \n",
       "4   5     h      Désiré         GUGGIARI        1980-10-12   41   \n",
       "5   6     h       Marin         DAUZONNE        2001-06-14   20   \n",
       "6   7     f   Anastasie            GIOMO        1997-07-15   24   \n",
       "7   8     h     Adolphe       JEYASANKAR        1968-09-06   53   \n",
       "8   9     h      Maxime           TLUCEK        1995-03-06   27   \n",
       "9  10     f  Felicienne          MOUREDA        1995-08-10   26   \n",
       "\n",
       "                   csp  nbr_de_salaries  code_naf     zone      coef  \\\n",
       "0      Cadre supérieur             1899        27   rurale  0.940748   \n",
       "1                Cadre              423        94  urbaine  0.994021   \n",
       "2                Cadre              242        10  urbaine  0.688066   \n",
       "3      Cadre supérieur              263        17   rurale  0.659418   \n",
       "4  Technicien Maîtrise              223        31   rurale  0.019161   \n",
       "5  Technicien Maîtrise             1415        62  urbaine  1.023556   \n",
       "6  Technicien Maîtrise              197        40  urbaine  0.969677   \n",
       "7                Cadre              996        67  urbaine  0.284302   \n",
       "8  Technicien Maîtrise              272        65   rurale  2.200580   \n",
       "9      Cadre supérieur              162        67   rurale  0.927465   \n",
       "\n",
       "   duree_rae  \n",
       "0        157  \n",
       "1        166  \n",
       "2        115  \n",
       "3        110  \n",
       "4          3  \n",
       "5        171  \n",
       "6        162  \n",
       "7         47  \n",
       "8        367  \n",
       "9        155  "
      ]
     },
     "execution_count": 890,
     "metadata": {},
     "output_type": "execute_result"
    }
   ],
   "source": [
    "df.head(10)"
   ]
  },
  {
   "cell_type": "code",
   "execution_count": 886,
   "id": "2bde9535",
   "metadata": {},
   "outputs": [
    {
     "data": {
      "text/plain": [
       "0.019161414048686095"
      ]
     },
     "execution_count": 886,
     "metadata": {},
     "output_type": "execute_result"
    }
   ],
   "source": [
    "df['coef'].min()"
   ]
  },
  {
   "cell_type": "code",
   "execution_count": 887,
   "id": "53d4cbbd",
   "metadata": {},
   "outputs": [
    {
     "data": {
      "text/plain": [
       "3.0"
      ]
     },
     "execution_count": 887,
     "metadata": {},
     "output_type": "execute_result"
    }
   ],
   "source": [
    "df['coef'].max()"
   ]
  },
  {
   "cell_type": "code",
   "execution_count": 888,
   "id": "22fd978f",
   "metadata": {},
   "outputs": [
    {
     "data": {
      "text/plain": [
       "1.2159853633925446"
      ]
     },
     "execution_count": 888,
     "metadata": {},
     "output_type": "execute_result"
    }
   ],
   "source": [
    "df['coef'].mean()"
   ]
  },
  {
   "cell_type": "code",
   "execution_count": 889,
   "id": "e7e36ef4",
   "metadata": {},
   "outputs": [
    {
     "data": {
      "text/plain": [
       "count    4999.000000\n",
       "mean      202.814363\n",
       "std       102.438877\n",
       "min         3.000000\n",
       "25%       128.000000\n",
       "50%       186.000000\n",
       "75%       262.000000\n",
       "max       501.000000\n",
       "Name: duree_rae, dtype: float64"
      ]
     },
     "execution_count": 889,
     "metadata": {},
     "output_type": "execute_result"
    }
   ],
   "source": [
    "df['duree_rae'].describe()"
   ]
  },
  {
   "cell_type": "code",
   "execution_count": 891,
   "id": "f1bec0d2",
   "metadata": {},
   "outputs": [
    {
     "data": {
      "text/plain": [
       "csp\n",
       "Cadre                  161.610619\n",
       "Cadre supérieur        122.710819\n",
       "Employé                241.756312\n",
       "Ouvrier                282.160194\n",
       "Technicien Maîtrise    206.544677\n",
       "Name: duree_rae, dtype: float64"
      ]
     },
     "execution_count": 891,
     "metadata": {},
     "output_type": "execute_result"
    }
   ],
   "source": [
    "df['duree_rae'].groupby(df['csp']).mean()"
   ]
  },
  {
   "cell_type": "code",
   "execution_count": 892,
   "id": "7418c804",
   "metadata": {},
   "outputs": [
    {
     "data": {
      "text/plain": [
       "<AxesSubplot:xlabel='age'>"
      ]
     },
     "execution_count": 892,
     "metadata": {},
     "output_type": "execute_result"
    },
    {
     "data": {
      "image/png": "[encoded data removed]",
      "text/plain": [
       "<Figure size 432x288 with 1 Axes>"
      ]
     },
     "metadata": {
      "needs_background": "light"
     },
     "output_type": "display_data"
    }
   ],
   "source": [
    "df['duree_rae'].groupby(df['age']).mean().plot()"
   ]
  },
  {
   "cell_type": "code",
   "execution_count": 893,
   "id": "76fbf3e7",
   "metadata": {},
   "outputs": [
    {
     "data": {
      "text/plain": [
       "zone\n",
       "rurale     257.797374\n",
       "urbaine    173.146905\n",
       "Name: duree_rae, dtype: float64"
      ]
     },
     "execution_count": 893,
     "metadata": {},
     "output_type": "execute_result"
    }
   ],
   "source": [
    "df['duree_rae'].groupby(df['zone']).mean()"
   ]
  },
  {
   "cell_type": "code",
   "execution_count": 894,
   "id": "f902048e",
   "metadata": {},
   "outputs": [
    {
     "data": {
      "image/png": "[encoded data removed]",
      "text/plain": [
       "<Figure size 360x360 with 1 Axes>"
      ]
     },
     "metadata": {
      "needs_background": "light"
     },
     "output_type": "display_data"
    }
   ],
   "source": [
    "sns.lmplot(x='nbr_de_salaries',\n",
    "           y='duree_rae',\n",
    "           data=df,\n",
    "           fit_reg=True,\n",
    "           line_kws={'color': 'red'});"
   ]
  },
  {
   "cell_type": "markdown",
   "id": "c4ce64f8",
   "metadata": {},
   "source": [
    "## Pourquoi ne peut-on pas voir l'effet de l'entreprise ?"
   ]
  },
  {
   "cell_type": "code",
   "execution_count": 896,
   "id": "e6b9c2c0",
   "metadata": {},
   "outputs": [],
   "source": [
    "toto = lambda x : 1 - (0.001 * x) + 0.4 if x < 1000 else 0.4"
   ]
  },
  {
   "cell_type": "code",
   "execution_count": 897,
   "id": "dd73669f",
   "metadata": {},
   "outputs": [],
   "source": [
    "a = []\n",
    "for i in range(1,1000): a.append(toto(i))"
   ]
  },
  {
   "cell_type": "code",
   "execution_count": 898,
   "id": "5f779719",
   "metadata": {},
   "outputs": [
    {
     "data": {
      "text/plain": [
       "<AxesSubplot:>"
      ]
     },
     "execution_count": 898,
     "metadata": {},
     "output_type": "execute_result"
    },
    {
     "data": {
      "image/png": "[encoded data removed]",
      "text/plain": [
       "<Figure size 432x288 with 1 Axes>"
      ]
     },
     "metadata": {
      "needs_background": "light"
     },
     "output_type": "display_data"
    }
   ],
   "source": [
    "# pourtant la fonction donne les résultats attendus...\n",
    "pd.DataFrame.from_dict({k:v for k,v in zip(range(1,1000), a)}, orient='index').plot()"
   ]
  }
 ],
 "metadata": {
  "kernelspec": {
   "display_name": "Python 3 (ipykernel)",
   "language": "python",
   "name": "python3"
  },
  "language_info": {
   "codemirror_mode": {
    "name": "ipython",
    "version": 3
   },
   "file_extension": ".py",
   "mimetype": "text/x-python",
   "name": "python",
   "nbconvert_exporter": "python",
   "pygments_lexer": "ipython3",
   "version": "3.8.5"
  }
 },
 "nbformat": 4,
 "nbformat_minor": 5
}
