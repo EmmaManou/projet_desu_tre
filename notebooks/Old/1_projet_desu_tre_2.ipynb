{
 "cells": [
  {
   "cell_type": "markdown",
   "id": "e7f979f9-ec4e-4498-add8-12390686ba7e",
   "metadata": {},
   "source": [
    "# Durée de retour à l'emploi : les déterminants endogènes et exogènes\n",
    "\n",
    "## Introduction"
   ]
  },
  {
   "cell_type": "markdown",
   "id": "4cbe9740-eeb3-4077-b9ee-97fa16888562",
   "metadata": {},
   "source": [
    "??? rédiger l'intro"
   ]
  },
  {
   "cell_type": "markdown",
   "id": "aaf71361-3307-4c7f-92da-2150a5f64558",
   "metadata": {},
   "source": [
    "## Description des jeux de données"
   ]
  },
  {
   "cell_type": "markdown",
   "id": "5835b66b-d159-4b5a-b7ec-58362090bf40",
   "metadata": {},
   "source": [
    "??? données endo virtuelles + données exo :\n",
    "1. données endogènes fictives\n",
    "2. données exogènes (jointure par le CP) :\n",
    "- taux de chômage\n",
    "- taux d'emploi ?"
   ]
  },
  {
   "cell_type": "code",
   "execution_count": null,
   "id": "a10ef75c-11d8-4325-938d-40774b50f167",
   "metadata": {},
   "outputs": [],
   "source": [
    "#importation du jeu de données utilisé\n"
   ]
  }
 ],
 "metadata": {
  "kernelspec": {
   "display_name": "Python 3 (ipykernel)",
   "language": "python",
   "name": "python3"
  },
  "language_info": {
   "codemirror_mode": {
    "name": "ipython",
    "version": 3
   },
   "file_extension": ".py",
   "mimetype": "text/x-python",
   "name": "python",
   "nbconvert_exporter": "python",
   "pygments_lexer": "ipython3",
   "version": "3.7.13"
  }
 },
 "nbformat": 4,
 "nbformat_minor": 5
}
